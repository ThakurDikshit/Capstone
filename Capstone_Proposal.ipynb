{
 "cells": [
  {
   "cell_type": "markdown",
   "metadata": {},
   "source": [
    "Capstone Proposal\n",
    "\n",
    "Sentiment Analysis on US Presidential Debate 2 between Donald Trump and Hillary Clinton.\n",
    "\n",
    "The Problem\n",
    "\n",
    "The US Presidential Primaries have been the world’s biggest news sensation for the past 12 months, and the coverage will only increase now that both major parties have their presumptive nominees for the general election. Twitter is one of the most powerful media platforms used by news stations and politicians alike, so I explored just how many, and what kind, of political messages were being seen by the public during Presidential debate on 9th Oct 2016. In total I collected and analyzed 6000 tweets collected using Tweepy.\n",
    "\n",
    "The Data\n",
    "\n",
    "The data was collected from the twitter wriiten under hashtag #TrumpVsClinton. The data was collected using Twitter API and Tweepy. The process I used to scrape the data and to analyze sentiment can be repeated for any twitter account of media page. You can analyze any data from the web with Python by yourself.\n",
    "\n",
    "Approach\n",
    "\n",
    "This is a Clustering based solution to split the data points in Positive and Negative Cluster using twitter Corpus."
   ]
  }
 ],
 "metadata": {
  "anaconda-cloud": {},
  "kernelspec": {
   "display_name": "Python [Root]",
   "language": "python",
   "name": "Python [Root]"
  },
  "language_info": {
   "codemirror_mode": {
    "name": "ipython",
    "version": 3
   },
   "file_extension": ".py",
   "mimetype": "text/x-python",
   "name": "python",
   "nbconvert_exporter": "python",
   "pygments_lexer": "ipython3",
   "version": "3.5.2"
  }
 },
 "nbformat": 4,
 "nbformat_minor": 0
}
